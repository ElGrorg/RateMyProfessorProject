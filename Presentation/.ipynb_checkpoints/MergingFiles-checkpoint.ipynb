{
 "cells": [
  {
   "cell_type": "code",
   "execution_count": 1,
   "id": "40098942",
   "metadata": {},
   "outputs": [
    {
     "name": "stdout",
     "output_type": "stream",
     "text": [
      "Collecting nbmerge\n",
      "  Downloading nbmerge-0.0.4.tar.gz (7.6 kB)\n",
      "Building wheels for collected packages: nbmerge\n",
      "  Building wheel for nbmerge (setup.py) ... \u001b[?25ldone\n",
      "\u001b[?25h  Created wheel for nbmerge: filename=nbmerge-0.0.4-py2.py3-none-any.whl size=6413 sha256=56e47d5d40a14cd013752eb1387af7bae9623426c356114c250120a78db95ea7\n",
      "  Stored in directory: /Users/gsalmon/Library/Caches/pip/wheels/0b/a8/31/4ae563f674b488c82ee72cfe0f86487c21532db97ae910b264\n",
      "Successfully built nbmerge\n",
      "Installing collected packages: nbmerge\n",
      "Successfully installed nbmerge-0.0.4\n"
     ]
    }
   ],
   "source": [
    "#Installing Merge software\n",
    "!pip install nbmerge"
   ]
  },
  {
   "cell_type": "code",
   "execution_count": 6,
   "id": "774e0051",
   "metadata": {},
   "outputs": [],
   "source": [
    "!nbmerge /Users/gsalmon/Documents/Coding/Python/'RMP Project'/RateMyProfessorProject/DataCollection/data_collection.ipynb /Users/gsalmon/Documents/Coding/Python/'RMP Project'/RateMyProfessorProject/SQLAnalysis/sql_analysis.ipynb -o presentation.ipynb"
   ]
  },
  {
   "cell_type": "code",
   "execution_count": null,
   "id": "3e2086c6",
   "metadata": {},
   "outputs": [],
   "source": []
  }
 ],
 "metadata": {
  "kernelspec": {
   "display_name": "Python 3 (ipykernel)",
   "language": "python",
   "name": "python3"
  },
  "language_info": {
   "codemirror_mode": {
    "name": "ipython",
    "version": 3
   },
   "file_extension": ".py",
   "mimetype": "text/x-python",
   "name": "python",
   "nbconvert_exporter": "python",
   "pygments_lexer": "ipython3",
   "version": "3.9.7"
  }
 },
 "nbformat": 4,
 "nbformat_minor": 5
}
