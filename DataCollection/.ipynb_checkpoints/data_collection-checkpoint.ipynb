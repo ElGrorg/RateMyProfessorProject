{
 "cells": [
  {
   "cell_type": "markdown",
   "id": "53b11d10",
   "metadata": {},
   "source": [
    "### Installing Selenium"
   ]
  },
  {
   "cell_type": "code",
   "execution_count": 1,
   "id": "38e632b1",
   "metadata": {
    "scrolled": true
   },
   "outputs": [
    {
     "name": "stdout",
     "output_type": "stream",
     "text": [
      "Requirement already satisfied: selenium in /Users/gsalmon/opt/anaconda3/lib/python3.9/site-packages (4.8.2)\n",
      "Requirement already satisfied: trio~=0.17 in /Users/gsalmon/opt/anaconda3/lib/python3.9/site-packages (from selenium) (0.22.0)\n",
      "Requirement already satisfied: urllib3[socks]~=1.26 in /Users/gsalmon/opt/anaconda3/lib/python3.9/site-packages (from selenium) (1.26.7)\n",
      "Requirement already satisfied: trio-websocket~=0.9 in /Users/gsalmon/opt/anaconda3/lib/python3.9/site-packages (from selenium) (0.10.0)\n",
      "Requirement already satisfied: certifi>=2021.10.8 in /Users/gsalmon/opt/anaconda3/lib/python3.9/site-packages (from selenium) (2021.10.8)\n",
      "Requirement already satisfied: idna in /Users/gsalmon/opt/anaconda3/lib/python3.9/site-packages (from trio~=0.17->selenium) (3.2)\n",
      "Requirement already satisfied: async-generator>=1.9 in /Users/gsalmon/opt/anaconda3/lib/python3.9/site-packages (from trio~=0.17->selenium) (1.10)\n",
      "Requirement already satisfied: exceptiongroup>=1.0.0rc9 in /Users/gsalmon/opt/anaconda3/lib/python3.9/site-packages (from trio~=0.17->selenium) (1.1.1)\n",
      "Requirement already satisfied: sniffio in /Users/gsalmon/opt/anaconda3/lib/python3.9/site-packages (from trio~=0.17->selenium) (1.2.0)\n",
      "Requirement already satisfied: sortedcontainers in /Users/gsalmon/opt/anaconda3/lib/python3.9/site-packages (from trio~=0.17->selenium) (2.4.0)\n",
      "Requirement already satisfied: outcome in /Users/gsalmon/opt/anaconda3/lib/python3.9/site-packages (from trio~=0.17->selenium) (1.2.0)\n",
      "Requirement already satisfied: attrs>=19.2.0 in /Users/gsalmon/opt/anaconda3/lib/python3.9/site-packages (from trio~=0.17->selenium) (21.2.0)\n",
      "Requirement already satisfied: wsproto>=0.14 in /Users/gsalmon/opt/anaconda3/lib/python3.9/site-packages (from trio-websocket~=0.9->selenium) (1.2.0)\n",
      "Requirement already satisfied: PySocks!=1.5.7,<2.0,>=1.5.6 in /Users/gsalmon/opt/anaconda3/lib/python3.9/site-packages (from urllib3[socks]~=1.26->selenium) (1.7.1)\n",
      "Requirement already satisfied: h11<1,>=0.9.0 in /Users/gsalmon/opt/anaconda3/lib/python3.9/site-packages (from wsproto>=0.14->trio-websocket~=0.9->selenium) (0.14.0)\n"
     ]
    }
   ],
   "source": [
    "!pip install selenium"
   ]
  },
  {
   "cell_type": "markdown",
   "id": "19ac0612",
   "metadata": {},
   "source": [
    "### Importing Elements to use"
   ]
  },
  {
   "cell_type": "code",
   "execution_count": 2,
   "id": "6b6f2f4e",
   "metadata": {},
   "outputs": [],
   "source": [
    "from selenium import webdriver\n",
    "from selenium.webdriver.chrome.service import Service\n",
    "from selenium.webdriver.common.by import By\n",
    "from selenium.webdriver import ActionChains\n",
    "from bs4 import BeautifulSoup\n",
    "import re\n",
    "import time\n",
    "import pandas as pd\n",
    "from sqlalchemy import create_engine\n",
    "import random\n",
    "import requests"
   ]
  },
  {
   "cell_type": "markdown",
   "id": "5e70ba1a",
   "metadata": {},
   "source": [
    "### Setting the Driver"
   ]
  },
  {
   "cell_type": "code",
   "execution_count": 4,
   "id": "90b8fd83",
   "metadata": {},
   "outputs": [],
   "source": [
    "# Specify the path to the chromedriver executable\n",
    "chromedriver_path = '/Users/gsalmon/Documents/chromedriver_mac64/chromedriver'\n",
    "\n",
    "# Create a Service object for the chromedriver\n",
    "service = Service(executable_path=chromedriver_path)\n",
    "\n",
    "# Create a new instance of the Chrome browser\n",
    "driver = webdriver.Chrome(service=service)"
   ]
  },
  {
   "cell_type": "markdown",
   "id": "bf612675",
   "metadata": {},
   "source": [
    "## Rate My Professor Scrape"
   ]
  },
  {
   "cell_type": "code",
   "execution_count": null,
   "id": "a813dfd4",
   "metadata": {},
   "outputs": [],
   "source": [
    "# Navigate to the web page\n",
    "url = 'https://www.ratemyprofessors.com/search/teachers?query=*&sid=538'\n",
    "driver.get(url)"
   ]
  },
  {
   "cell_type": "code",
   "execution_count": null,
   "id": "3b7f49fd",
   "metadata": {},
   "outputs": [],
   "source": [
    "# Creating Soup Element\n",
    "soup = BeautifulSoup(html, 'html.parser')\n",
    "print(soup.prettify())"
   ]
  },
  {
   "cell_type": "code",
   "execution_count": null,
   "id": "a30413ee",
   "metadata": {},
   "outputs": [],
   "source": [
    "# Creating Empty Dictionary containing teacher details\n",
    "teacher_details = {\n",
    "    'name':[],\n",
    "    'department':[],\n",
    "    'rating':[],\n",
    "    'count_ratings':[],\n",
    "    'difficulty':[],\n",
    "    'would_retake':[]\n",
    "}"
   ]
  },
  {
   "cell_type": "code",
   "execution_count": null,
   "id": "bcbf9ffa",
   "metadata": {},
   "outputs": [],
   "source": [
    "# Generating all of the HTML for the webpage\n",
    "button = driver.find_element(By.XPATH, '//*[@id=\"root\"]/div/div/div[4]/div[1]/div[1]/div[4]/button')\n",
    "for i in range(273):\n",
    "    ActionChains(driver)\\\n",
    "        .click(button)\\\n",
    "        .perform()\n",
    "    time.sleep(3)"
   ]
  },
  {
   "cell_type": "code",
   "execution_count": null,
   "id": "931f3228",
   "metadata": {},
   "outputs": [],
   "source": [
    "# Setting the HTML and soup variable to scrape\n",
    "html = driver.page_source\n",
    "soup = BeautifulSoup(html, 'html.parser')"
   ]
  },
  {
   "cell_type": "code",
   "execution_count": null,
   "id": "3ca277ad",
   "metadata": {},
   "outputs": [],
   "source": [
    "# Scraping each attribute for each teacher\n",
    "teachers = soup.findAll('a', {'class':'TeacherCard__StyledTeacherCard-syjs0d-0 dLJIlx'})\n",
    "x = 1;\n",
    "for teacher in teachers:\n",
    "    print(x)\n",
    "    name = teacher.find('div', {'class':'CardName__StyledCardName-sc-1gyrgim-0 cJdVEK'})\n",
    "    teacher_details['name'].append(name.text)\n",
    "    print('Name:', name.text)\n",
    "\n",
    "    department = teacher.find('div', {'class':'CardSchool__Department-sc-19lmz2k-0 haUIRO'})\n",
    "    teacher_details['department'].append(department.text)\n",
    "    print('Department:', department.text)\n",
    "\n",
    "    rating = teacher.find('div', {'class':re.compile('^CardNumRating__CardNumRatingNumber-sc-17t4b9u-2')})\n",
    "    teacher_details['rating'].append(rating.text)\n",
    "    print('Rating:', rating.text)\n",
    "    \n",
    "    count_ratings = teacher.find('div', {'class':re.compile('^CardNumRating__CardNumRatingCount-sc-17t4b9u-3')})\n",
    "    teacher_details['count_ratings'].append(count_ratings.text[:-8])\n",
    "    print('Rating Count:', count_ratings.text[:-8])\n",
    "\n",
    "    difficulty_elements = teacher.find_all('div', {'class':re.compile('^CardFeedback__CardFeedbackNumber-lq6nix-2')})\n",
    "    difficulty = difficulty_elements[1]\n",
    "    teacher_details['difficulty'].append(difficulty.text)\n",
    "    print('Difficulty:', difficulty.text)\n",
    "\n",
    "    would_retake = difficulty_elements[0]\n",
    "    teacher_details['would_retake'].append(would_retake.text)\n",
    "    print('Would Retake:', would_retake.text)\n",
    "    \n",
    "    x = x + 1\n",
    "\n",
    "    print('-' * 50)"
   ]
  },
  {
   "cell_type": "code",
   "execution_count": null,
   "id": "59519539",
   "metadata": {},
   "outputs": [],
   "source": [
    "# Assigning teacher_details to a dataframe\n",
    "teacher_df = pd.DataFrame(teacher_details)"
   ]
  },
  {
   "cell_type": "code",
   "execution_count": null,
   "id": "c85769c1",
   "metadata": {},
   "outputs": [],
   "source": [
    "# Checking the data for completeness\n",
    "teacher_df.head()"
   ]
  },
  {
   "cell_type": "code",
   "execution_count": null,
   "id": "713de3e4",
   "metadata": {},
   "outputs": [],
   "source": [
    "# Checking the data for completeness\n",
    "teacher_df.tail()"
   ]
  },
  {
   "cell_type": "code",
   "execution_count": null,
   "id": "ff4789ed",
   "metadata": {},
   "outputs": [],
   "source": [
    "Turning the dataframe into a csv file\n",
    "teacher_df.to_csv('teacher_details.csv', index=False)"
   ]
  },
  {
   "cell_type": "markdown",
   "id": "b2ba0fe4",
   "metadata": {},
   "source": [
    "## Prowl Scrape"
   ]
  },
  {
   "cell_type": "code",
   "execution_count": null,
   "id": "32ba913b",
   "metadata": {},
   "outputs": [],
   "source": [
    "# Resetting url and driver\n",
    "url = 'https://bannerxe.lmu.edu/StudentRegistrationSsb/ssb/classSearch/classSearch'\n",
    "driver.get(url)"
   ]
  },
  {
   "cell_type": "code",
   "execution_count": null,
   "id": "07fc6c89",
   "metadata": {},
   "outputs": [],
   "source": [
    "# Setting soup variable\n",
    "soup = BeautifulSoup(html, 'html.parser')\n",
    "print(soup.prettify())"
   ]
  },
  {
   "cell_type": "code",
   "execution_count": null,
   "id": "b9700fe2",
   "metadata": {},
   "outputs": [],
   "source": [
    "# Finding the table in the html\n",
    "table = soup.find('table', id='table1')"
   ]
  },
  {
   "cell_type": "code",
   "execution_count": null,
   "id": "dcd7a71b",
   "metadata": {},
   "outputs": [],
   "source": [
    "# Creating field titles by scraping each of the headers\n",
    "headers = []\n",
    "for i in table.find_all('th'):\n",
    "    title = i.text\n",
    "    print(title)\n",
    "    headers.append(title)"
   ]
  },
  {
   "cell_type": "code",
   "execution_count": null,
   "id": "3f1ed89c",
   "metadata": {},
   "outputs": [],
   "source": [
    "# Create a dataframe\n",
    "mydata = pd.DataFrame(columns = headers)"
   ]
  },
  {
   "cell_type": "code",
   "execution_count": null,
   "id": "6f470c88",
   "metadata": {},
   "outputs": [],
   "source": [
    "# Create a for loop to fill mydata and paginate\n",
    "# Filling with all data in table\n",
    "for page in range(1,60):\n",
    "    time.sleep(10)\n",
    "    html = driver.page_source\n",
    "    soup = BeautifulSoup(html, 'html.parser')\n",
    "    table = soup.find('table', id='table1')\n",
    "    for j in table.find_all('tr')[1:]:\n",
    "        row_data = j.find_all('td')\n",
    "        row = [i.text for i in row_data]\n",
    "        length = len(mydata)\n",
    "        mydata.loc[length] = row\n",
    "    button = driver.find_element(By.CSS_SELECTOR, '#searchResultsTable > div.bottom.ui-widget-header > div > button.paging-control.next.ltr.enabled')\n",
    "    button.click()"
   ]
  },
  {
   "cell_type": "code",
   "execution_count": null,
   "id": "ef818994",
   "metadata": {},
   "outputs": [],
   "source": [
    "# Checking length of data scraped\n",
    "len(mydata)"
   ]
  },
  {
   "cell_type": "code",
   "execution_count": null,
   "id": "04d04dc5",
   "metadata": {},
   "outputs": [],
   "source": [
    "# Viewing data for completeness\n",
    "mydata"
   ]
  },
  {
   "cell_type": "code",
   "execution_count": null,
   "id": "38cc9b13",
   "metadata": {},
   "outputs": [],
   "source": [
    "# Converting data to CSV\n",
    "mydata.to_csv('prowl_data.csv', index=False)"
   ]
  },
  {
   "cell_type": "code",
   "execution_count": 6,
   "id": "ebd9eb9b",
   "metadata": {},
   "outputs": [],
   "source": [
    "# Quitting driver\n",
    "driver.quit()"
   ]
  }
 ],
 "metadata": {
  "kernelspec": {
   "display_name": "Python 3 (ipykernel)",
   "language": "python",
   "name": "python3"
  },
  "language_info": {
   "codemirror_mode": {
    "name": "ipython",
    "version": 3
   },
   "file_extension": ".py",
   "mimetype": "text/x-python",
   "name": "python",
   "nbconvert_exporter": "python",
   "pygments_lexer": "ipython3",
   "version": "3.9.7"
  }
 },
 "nbformat": 4,
 "nbformat_minor": 5
}
